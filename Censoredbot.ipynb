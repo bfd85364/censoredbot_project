{
 "cells": [
  {
   "cell_type": "code",
   "execution_count": 1,
   "id": "0f5fdd2d-d9b5-4cbb-b333-b09dee7f6d27",
   "metadata": {
    "scrolled": true
   },
   "outputs": [
    {
     "name": "stdout",
     "output_type": "stream",
     "text": [
      "Requirement already satisfied: discord.py in c:\\users\\user\\anaconda3\\lib\\site-packages (2.4.0)\n",
      "Requirement already satisfied: aiohttp<4,>=3.7.4 in c:\\users\\user\\anaconda3\\lib\\site-packages (from discord.py) (3.9.5)\n",
      "Requirement already satisfied: aiosignal>=1.1.2 in c:\\users\\user\\anaconda3\\lib\\site-packages (from aiohttp<4,>=3.7.4->discord.py) (1.2.0)\n",
      "Requirement already satisfied: attrs>=17.3.0 in c:\\users\\user\\anaconda3\\lib\\site-packages (from aiohttp<4,>=3.7.4->discord.py) (23.1.0)\n",
      "Requirement already satisfied: frozenlist>=1.1.1 in c:\\users\\user\\anaconda3\\lib\\site-packages (from aiohttp<4,>=3.7.4->discord.py) (1.4.0)\n",
      "Requirement already satisfied: multidict<7.0,>=4.5 in c:\\users\\user\\anaconda3\\lib\\site-packages (from aiohttp<4,>=3.7.4->discord.py) (6.0.4)\n",
      "Requirement already satisfied: yarl<2.0,>=1.0 in c:\\users\\user\\anaconda3\\lib\\site-packages (from aiohttp<4,>=3.7.4->discord.py) (1.9.3)\n",
      "Requirement already satisfied: idna>=2.0 in c:\\users\\user\\anaconda3\\lib\\site-packages (from yarl<2.0,>=1.0->aiohttp<4,>=3.7.4->discord.py) (3.7)\n"
     ]
    }
   ],
   "source": [
    "!pip install discord.py"
   ]
  },
  {
   "cell_type": "code",
   "execution_count": 2,
   "id": "947fc417-b719-4f67-9842-6d0b50d6cecc",
   "metadata": {},
   "outputs": [
    {
     "name": "stdout",
     "output_type": "stream",
     "text": [
      "Requirement already satisfied: nest_asyncio in c:\\users\\user\\anaconda3\\lib\\site-packages (1.6.0)\n"
     ]
    }
   ],
   "source": [
    "!pip install nest_asyncio"
   ]
  },
  {
   "cell_type": "code",
   "execution_count": 3,
   "id": "40c08ccb-91fa-42db-8903-cda422645318",
   "metadata": {},
   "outputs": [
    {
     "name": "stdout",
     "output_type": "stream",
     "text": [
      "Requirement already satisfied: numpy in c:\\users\\user\\anaconda3\\lib\\site-packages (1.26.4)\n"
     ]
    }
   ],
   "source": [
    "!pip install numpy"
   ]
  },
  {
   "cell_type": "code",
   "execution_count": 4,
   "id": "b89dfb43-6a03-4054-9b7c-9aa04a775936",
   "metadata": {},
   "outputs": [
    {
     "name": "stdout",
     "output_type": "stream",
     "text": [
      "Requirement already satisfied: pillow in c:\\users\\user\\anaconda3\\lib\\site-packages (10.3.0)\n"
     ]
    }
   ],
   "source": [
    "!pip install pillow"
   ]
  },
  {
   "cell_type": "code",
   "execution_count": null,
   "id": "42c619d2-9f6c-4b7e-885a-eaed61675e10",
   "metadata": {},
   "outputs": [
    {
     "name": "stdout",
     "output_type": "stream",
     "text": [
      "Bot ready!\n"
     ]
    }
   ],
   "source": [
    "import discord\n",
    "from discord.ext import commands\n",
    "import asyncio\n",
    "import nest_asyncio\n",
    "import numpy as np\n",
    "from PIL import Image\n",
    "import io\n",
    "\n",
    "\n",
    "img = Image.open(\"Censored.png\")\n",
    "Censored_pixel_list = list(img.getdata())\n",
    "\n",
    "\n",
    "np.savetxt(\"pixel_type_data.txt\", Censored_pixel_list, fmt='%d', delimiter=\" \")\n",
    "\n",
    "nest_asyncio.apply()\n",
    "\n",
    "TOKEN = 'secret, it have to only subject your token here'\n",
    "CHANNEL_ID = 'also must be subject your token here'\n",
    "\n",
    "bot = commands.Bot(command_prefix=\"!\", intents=discord.Intents.all())\n",
    "\n",
    "@bot.event\n",
    "async def on_ready():\n",
    "    print(\"Bot ready!\")\n",
    "\n",
    "@bot.event\n",
    "async def on_message(message):\n",
    "    message_content = message.content \n",
    "    harms = [\"Censored1\", \"Censored2\", \"Censored3\", \"Censored4\", \"Censored5\", \"Censored6\", \"Censored7\", \"Censored8\", \"Censored9\"]\n",
    "\n",
    "    if any(bad_word in message_content for bad_word in harms):\n",
    "        await message.channel.send(\"please note that, this is public place\")\n",
    "        await message.delete()\n",
    "    elif len(message_content) >= 320:\n",
    "        await message.delete()\n",
    "    \n",
    "    await bot.process_commands(message)\n",
    "\n",
    "    for attachment in message.attachments:\n",
    "        if attachment.filename.lower().endswith(('png','jpg','jpeg')):\n",
    "\n",
    "            image_bytes = await attachment.read()\n",
    "            img = Image.open(io.BytesIO(image_bytes))\n",
    "            pixel_list = list(img.getdata())\n",
    "\n",
    "            if pixel_list == Censored_pixel_list:\n",
    "                await message.channel.send(\"The harmful contents is detected\")\n",
    "                await message.delete()\n",
    "                await asyncio.sleep(2)\n",
    "\n",
    "async def start_bot():\n",
    "    await bot.start(TOKEN)\n",
    "\n",
    "asyncio.run(start_bot())"
   ]
  },
  {
   "cell_type": "code",
   "execution_count": null,
   "id": "93fc1371-8c27-4250-91df-41c37a1af9ae",
   "metadata": {},
   "outputs": [],
   "source": []
  },
  {
   "cell_type": "code",
   "execution_count": null,
   "id": "70ec1000-0ef8-4eb2-9902-dc93cb296c22",
   "metadata": {},
   "outputs": [],
   "source": []
  }
 ],
 "metadata": {
  "kernelspec": {
   "display_name": "Python 3 (ipykernel)",
   "language": "python",
   "name": "python3"
  },
  "language_info": {
   "codemirror_mode": {
    "name": "ipython",
    "version": 3
   },
   "file_extension": ".py",
   "mimetype": "text/x-python",
   "name": "python",
   "nbconvert_exporter": "python",
   "pygments_lexer": "ipython3",
   "version": "3.12.4"
  }
 },
 "nbformat": 4,
 "nbformat_minor": 5
}
